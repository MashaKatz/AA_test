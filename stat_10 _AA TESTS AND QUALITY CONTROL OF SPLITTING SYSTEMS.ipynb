{
 "cells": [
  {
   "cell_type": "markdown",
   "metadata": {},
   "source": [
    "# A/A TESTS AND QUALITY CONTROL OF SPLITTING SYSTEMS"
   ]
  },
  {
   "cell_type": "markdown",
   "metadata": {},
   "source": [
    "> Description of the task A / A testing of a mobile application. It is necessary to calculate the results of the A / A test by checking the FPR quality metric (we will check for conversions to a purchase). The split system is known to be broken. It is required to check the statement about the breakdown and find its causes if the split system is really broken.\n",
    "\n",
    "Description of columns\n",
    "experimentVariant - experiment variant\n",
    "version - application version\n",
    "purchase - fact of purchase\n",
    "\n",
    "Calculate FPR at alpha level = 0.05 (set subsamples without replacement of 1000).\n",
    "You will see that FPR > alpha! We need the opposite - to be less.\n",
    "Find the causes of the breakdown of the split system, focusing on the results of the experiment (hint: find an anomaly in the application version).\n",
    "Write conclusions that can be drawn from the analysis of the results of the A / A test.\n",
    "\n",
    "We have access to the version of the mobile application (MP) of each user."
   ]
  },
  {
   "cell_type": "code",
   "execution_count": 1,
   "metadata": {},
   "outputs": [],
   "source": [
    "import pandas as pd\n",
    "import numpy as np\n",
    "from scipy import stats\n",
    "import seaborn as sns\n",
    "import matplotlib.pyplot as plt\n",
    "from statsmodels.stats.contingency_tables import StratifiedTable\n",
    "\n",
    "from tqdm.auto import tqdm"
   ]
  },
  {
   "cell_type": "code",
   "execution_count": 3,
   "metadata": {},
   "outputs": [],
   "source": [
    "df=pd.read_csv('hw_aa.csv', sep=';')"
   ]
  },
  {
   "cell_type": "code",
   "execution_count": 4,
   "metadata": {},
   "outputs": [
    {
     "data": {
      "text/plain": [
       "Unnamed: 0            int64\n",
       "uid                  object\n",
       "experimentVariant     int64\n",
       "version              object\n",
       "purchase              int64\n",
       "dtype: object"
      ]
     },
     "execution_count": 4,
     "metadata": {},
     "output_type": "execute_result"
    }
   ],
   "source": [
    "df.dtypes"
   ]
  },
  {
   "cell_type": "code",
   "execution_count": 5,
   "metadata": {},
   "outputs": [
    {
     "data": {
      "text/plain": [
       "array(['v2.8.0', 'v2.9.0', 'v3.7.4.0', 'v3.8.0.0'], dtype=object)"
      ]
     },
     "execution_count": 5,
     "metadata": {},
     "output_type": "execute_result"
    }
   ],
   "source": [
    "#check how many MP versions\n",
    "df.version.unique()"
   ]
  },
  {
   "cell_type": "code",
   "execution_count": 6,
   "metadata": {},
   "outputs": [
    {
     "data": {
      "text/plain": [
       "127018"
      ]
     },
     "execution_count": 6,
     "metadata": {},
     "output_type": "execute_result"
    }
   ],
   "source": [
    "df.uid.nunique()"
   ]
  },
  {
   "cell_type": "code",
   "execution_count": 7,
   "metadata": {},
   "outputs": [
    {
     "data": {
      "text/plain": [
       "127018"
      ]
     },
     "execution_count": 7,
     "metadata": {},
     "output_type": "execute_result"
    }
   ],
   "source": [
    "df['Unnamed: 0'].nunique()"
   ]
  },
  {
   "cell_type": "code",
   "execution_count": 8,
   "metadata": {},
   "outputs": [
    {
     "data": {
      "text/plain": [
       "array([1, 0])"
      ]
     },
     "execution_count": 8,
     "metadata": {},
     "output_type": "execute_result"
    }
   ],
   "source": [
    "#check how many options we have\n",
    "df.experimentVariant.unique()"
   ]
  },
  {
   "cell_type": "markdown",
   "metadata": {},
   "source": [
    "Run an A/A test Calculate FPR at alpha level = 0.05 (set subsamples without return of size 1000). You will see that FPR > alpha! We need the opposite - to be less."
   ]
  },
  {
   "cell_type": "code",
   "execution_count": 9,
   "metadata": {},
   "outputs": [
    {
     "data": {
      "text/plain": [
       "0         0\n",
       "2         0\n",
       "3         0\n",
       "4         0\n",
       "5         0\n",
       "         ..\n",
       "127009    0\n",
       "127010    0\n",
       "127015    0\n",
       "127016    0\n",
       "127017    0\n",
       "Name: purchase, Length: 63916, dtype: int64"
      ]
     },
     "execution_count": 9,
     "metadata": {},
     "output_type": "execute_result"
    }
   ],
   "source": [
    "df[df.experimentVariant == 0]['purchase']\n",
    "df[df.experimentVariant == 1]['purchase']"
   ]
  },
  {
   "cell_type": "code",
   "execution_count": 10,
   "metadata": {},
   "outputs": [
    {
     "data": {
      "application/vnd.jupyter.widget-view+json": {
       "model_id": "b459fdd665a943bc9c95faa4709c7509",
       "version_major": 2,
       "version_minor": 0
      },
      "text/plain": [
       "  0%|          | 0/1000 [00:00<?, ?it/s]"
      ]
     },
     "metadata": {},
     "output_type": "display_data"
    },
    {
     "data": {
      "image/png": "[encoded data removed]",
      "text/plain": [
       "<Figure size 432x288 with 1 Axes>"
      ]
     },
     "metadata": {
      "needs_background": "light"
     },
     "output_type": "display_data"
    },
    {
     "data": {
      "text/plain": [
       "0.93"
      ]
     },
     "execution_count": 10,
     "metadata": {},
     "output_type": "execute_result"
    }
   ],
   "source": [
    "n = 127018\n",
    "simulations = 1000\n",
    "n_s = 1000\n",
    "res = []\n",
    "\n",
    "# Run A/A test simulations\n",
    "for i in tqdm(range(simulations)):\n",
    "    s1 = df[df.experimentVariant == 0]['purchase'].sample(n_s, replace = False).values\n",
    "    s2 = df[df.experimentVariant == 1]['purchase'].sample(n_s, replace = False).values\n",
    "    res.append(stats.ttest_ind(s1, s2, equal_var = False)[1]) # сохраняем pvalue\n",
    "\n",
    "plt.hist(res, bins = 50)\n",
    "plt.style.use('ggplot')\n",
    "plt.xlabel('pvalues')\n",
    "plt.ylabel('frequency')\n",
    "plt.title(\"Histogram of ttest A/A simulations \")\n",
    "plt.show()\n",
    "\n",
    "# Check that the number of false positives does not exceed alpha\n",
    "sum(np.array(res) <0.05) / simulations"
   ]
  },
  {
   "cell_type": "markdown",
   "metadata": {},
   "source": [
    "Detection of splitting errors. Let's check the conversion for different MPs."
   ]
  },
  {
   "cell_type": "code",
   "execution_count": 11,
   "metadata": {},
   "outputs": [
    {
     "data": {
      "text/html": [
       "<div>\n",
       "<style scoped>\n",
       "    .dataframe tbody tr th:only-of-type {\n",
       "        vertical-align: middle;\n",
       "    }\n",
       "\n",
       "    .dataframe tbody tr th {\n",
       "        vertical-align: top;\n",
       "    }\n",
       "\n",
       "    .dataframe thead th {\n",
       "        text-align: right;\n",
       "    }\n",
       "</style>\n",
       "<table border=\"1\" class=\"dataframe\">\n",
       "  <thead>\n",
       "    <tr style=\"text-align: right;\">\n",
       "      <th></th>\n",
       "      <th>version</th>\n",
       "      <th>experimentVariant</th>\n",
       "      <th>ctr</th>\n",
       "    </tr>\n",
       "  </thead>\n",
       "  <tbody>\n",
       "    <tr>\n",
       "      <th>0</th>\n",
       "      <td>v2.8.0</td>\n",
       "      <td>0</td>\n",
       "      <td>0.000993</td>\n",
       "    </tr>\n",
       "    <tr>\n",
       "      <th>1</th>\n",
       "      <td>v2.8.0</td>\n",
       "      <td>1</td>\n",
       "      <td>0.045606</td>\n",
       "    </tr>\n",
       "    <tr>\n",
       "      <th>2</th>\n",
       "      <td>v2.9.0</td>\n",
       "      <td>0</td>\n",
       "      <td>0.074658</td>\n",
       "    </tr>\n",
       "    <tr>\n",
       "      <th>3</th>\n",
       "      <td>v2.9.0</td>\n",
       "      <td>1</td>\n",
       "      <td>0.071304</td>\n",
       "    </tr>\n",
       "    <tr>\n",
       "      <th>4</th>\n",
       "      <td>v3.7.4.0</td>\n",
       "      <td>0</td>\n",
       "      <td>0.059943</td>\n",
       "    </tr>\n",
       "    <tr>\n",
       "      <th>5</th>\n",
       "      <td>v3.7.4.0</td>\n",
       "      <td>1</td>\n",
       "      <td>0.063018</td>\n",
       "    </tr>\n",
       "    <tr>\n",
       "      <th>6</th>\n",
       "      <td>v3.8.0.0</td>\n",
       "      <td>0</td>\n",
       "      <td>0.057604</td>\n",
       "    </tr>\n",
       "    <tr>\n",
       "      <th>7</th>\n",
       "      <td>v3.8.0.0</td>\n",
       "      <td>1</td>\n",
       "      <td>0.062848</td>\n",
       "    </tr>\n",
       "  </tbody>\n",
       "</table>\n",
       "</div>"
      ],
      "text/plain": [
       "    version  experimentVariant       ctr\n",
       "0    v2.8.0                  0  0.000993\n",
       "1    v2.8.0                  1  0.045606\n",
       "2    v2.9.0                  0  0.074658\n",
       "3    v2.9.0                  1  0.071304\n",
       "4  v3.7.4.0                  0  0.059943\n",
       "5  v3.7.4.0                  1  0.063018\n",
       "6  v3.8.0.0                  0  0.057604\n",
       "7  v3.8.0.0                  1  0.062848"
      ]
     },
     "execution_count": 11,
     "metadata": {},
     "output_type": "execute_result"
    }
   ],
   "source": [
    "#we will check the purchase concession from different SEs in different experimental groups.\n",
    "df1=df.groupby(['version', 'experimentVariant']).agg({'purchase':'mean'}).reset_index()\\\n",
    "                                                .rename(columns={'purchase':'ctr'})\n",
    "df1"
   ]
  },
  {
   "cell_type": "code",
   "execution_count": 12,
   "metadata": {},
   "outputs": [
    {
     "data": {
      "text/plain": [
       "<AxesSubplot:xlabel='version', ylabel='ctr'>"
      ]
     },
     "execution_count": 12,
     "metadata": {},
     "output_type": "execute_result"
    },
    {
     "data": {
      "image/png": "[encoded data removed]",
      "text/plain": [
       "<Figure size 432x288 with 1 Axes>"
      ]
     },
     "metadata": {},
     "output_type": "display_data"
    }
   ],
   "source": [
    "#There is a noticeable difference in v2.8.0, in others it is present, but not so significant\n",
    "sns.pointplot(x = 'version', y = 'ctr', hue = 'experimentVariant', data = df1)"
   ]
  },
  {
   "cell_type": "code",
   "execution_count": 13,
   "metadata": {},
   "outputs": [
    {
     "data": {
      "text/html": [
       "<div>\n",
       "<style scoped>\n",
       "    .dataframe tbody tr th:only-of-type {\n",
       "        vertical-align: middle;\n",
       "    }\n",
       "\n",
       "    .dataframe tbody tr th {\n",
       "        vertical-align: top;\n",
       "    }\n",
       "\n",
       "    .dataframe thead th {\n",
       "        text-align: right;\n",
       "    }\n",
       "</style>\n",
       "<table border=\"1\" class=\"dataframe\">\n",
       "  <thead>\n",
       "    <tr style=\"text-align: right;\">\n",
       "      <th></th>\n",
       "      <th>version</th>\n",
       "      <th>experimentVariant</th>\n",
       "      <th>purchase</th>\n",
       "      <th>uid</th>\n",
       "    </tr>\n",
       "  </thead>\n",
       "  <tbody>\n",
       "    <tr>\n",
       "      <th>0</th>\n",
       "      <td>v2.8.0</td>\n",
       "      <td>0</td>\n",
       "      <td>0.000993</td>\n",
       "      <td>41283</td>\n",
       "    </tr>\n",
       "    <tr>\n",
       "      <th>1</th>\n",
       "      <td>v2.8.0</td>\n",
       "      <td>1</td>\n",
       "      <td>0.045606</td>\n",
       "      <td>41552</td>\n",
       "    </tr>\n",
       "    <tr>\n",
       "      <th>2</th>\n",
       "      <td>v2.9.0</td>\n",
       "      <td>0</td>\n",
       "      <td>0.074658</td>\n",
       "      <td>11921</td>\n",
       "    </tr>\n",
       "    <tr>\n",
       "      <th>3</th>\n",
       "      <td>v2.9.0</td>\n",
       "      <td>1</td>\n",
       "      <td>0.071304</td>\n",
       "      <td>12033</td>\n",
       "    </tr>\n",
       "    <tr>\n",
       "      <th>4</th>\n",
       "      <td>v3.7.4.0</td>\n",
       "      <td>0</td>\n",
       "      <td>0.059943</td>\n",
       "      <td>4204</td>\n",
       "    </tr>\n",
       "    <tr>\n",
       "      <th>5</th>\n",
       "      <td>v3.7.4.0</td>\n",
       "      <td>1</td>\n",
       "      <td>0.063018</td>\n",
       "      <td>4221</td>\n",
       "    </tr>\n",
       "    <tr>\n",
       "      <th>6</th>\n",
       "      <td>v3.8.0.0</td>\n",
       "      <td>0</td>\n",
       "      <td>0.057604</td>\n",
       "      <td>5694</td>\n",
       "    </tr>\n",
       "    <tr>\n",
       "      <th>7</th>\n",
       "      <td>v3.8.0.0</td>\n",
       "      <td>1</td>\n",
       "      <td>0.062848</td>\n",
       "      <td>6110</td>\n",
       "    </tr>\n",
       "  </tbody>\n",
       "</table>\n",
       "</div>"
      ],
      "text/plain": [
       "    version  experimentVariant  purchase    uid\n",
       "0    v2.8.0                  0  0.000993  41283\n",
       "1    v2.8.0                  1  0.045606  41552\n",
       "2    v2.9.0                  0  0.074658  11921\n",
       "3    v2.9.0                  1  0.071304  12033\n",
       "4  v3.7.4.0                  0  0.059943   4204\n",
       "5  v3.7.4.0                  1  0.063018   4221\n",
       "6  v3.8.0.0                  0  0.057604   5694\n",
       "7  v3.8.0.0                  1  0.062848   6110"
      ]
     },
     "execution_count": 13,
     "metadata": {},
     "output_type": "execute_result"
    }
   ],
   "source": [
    "#we will check the purchase concession from different SEs in different experimental groups.\n",
    "df2=df.groupby(['version', 'experimentVariant']).agg({'purchase':'mean', 'uid':'count'}).reset_index()\n",
    "df2"
   ]
  },
  {
   "cell_type": "code",
   "execution_count": 14,
   "metadata": {},
   "outputs": [
    {
     "data": {
      "text/plain": [
       "<AxesSubplot:xlabel='version', ylabel='uid'>"
      ]
     },
     "execution_count": 14,
     "metadata": {},
     "output_type": "execute_result"
    },
    {
     "data": {
      "image/png": "[encoded data removed]",
      "text/plain": [
       "<Figure size 432x288 with 1 Axes>"
      ]
     },
     "metadata": {},
     "output_type": "display_data"
    }
   ],
   "source": [
    "#Sampling sizes are nearly identical, with this being the largest portion in the version where the biggest difference in concession is noticeable.\n",
    "sns.pointplot(x = 'version', y = 'uid', hue = 'experimentVariant', data = df2)"
   ]
  },
  {
   "cell_type": "code",
   "execution_count": 15,
   "metadata": {},
   "outputs": [
    {
     "data": {
      "application/vnd.jupyter.widget-view+json": {
       "model_id": "564f6cdd06a44fbb9078aaf4f7cafc0a",
       "version_major": 2,
       "version_minor": 0
      },
      "text/plain": [
       "  0%|          | 0/1000 [00:00<?, ?it/s]"
      ]
     },
     "metadata": {},
     "output_type": "display_data"
    },
    {
     "data": {
      "image/png": "[encoded data removed]",
      "text/plain": [
       "<Figure size 432x288 with 1 Axes>"
      ]
     },
     "metadata": {},
     "output_type": "display_data"
    },
    {
     "data": {
      "text/plain": [
       "0.053"
      ]
     },
     "execution_count": 15,
     "metadata": {},
     "output_type": "execute_result"
    }
   ],
   "source": [
    "n = 127018\n",
    "simulations = 1000\n",
    "n_s = 1000\n",
    "res = []\n",
    "\n",
    "\n",
    "# Run A/A test simulations\n",
    "for i in tqdm(range(simulations)):\n",
    "    s1 = df[(df.experimentVariant == 0) & (df.version != \"v2.8.0\")]['purchase'].sample(n_s, replace = False).values\n",
    "    s2 = df[(df.experimentVariant == 1) & (df.version != \"v2.8.0\")]['purchase'].sample(n_s, replace = False).values\n",
    "    res.append(stats.ttest_ind(s1, s2, equal_var = False)[1]) # сохраняем pvalue\n",
    "\n",
    "plt.hist(res, bins = 50)\n",
    "plt.style.use('ggplot')\n",
    "plt.xlabel('pvalues')\n",
    "plt.ylabel('frequency')\n",
    "plt.title(\"Histogram of ttest A/A simulations \")\n",
    "plt.show()\n",
    "\n",
    "# Check that the number of false positives does not exceed alpha\n",
    "sum(np.array(res) <0.05) / simulations"
   ]
  },
  {
   "cell_type": "code",
   "execution_count": 16,
   "metadata": {},
   "outputs": [
    {
     "data": {
      "text/html": [
       "<table class=\"simpletable\">\n",
       "<tr>\n",
       "          <td></td>          <th>Estimate</th>    <th>LCB</th>    <th>UCB</th> \n",
       "</tr>\n",
       "<tr>\n",
       "  <th>Pooled odds</th>           <td>2.300</td>   <td>2.161</td> <td>2.447</td>\n",
       "</tr>\n",
       "<tr>\n",
       "  <th>Pooled log odds</th>       <td>0.833</td>   <td>0.771</td> <td>0.895</td>\n",
       "</tr>\n",
       "<tr>\n",
       "  <th>Pooled risk ratio</th>     <td>1.657</td>        <td></td>      <td></td>\n",
       "</tr>\n",
       "<tr>\n",
       "  <th></th>                           <td></td>        <td></td>      <td></td>\n",
       "</tr>\n",
       "<tr>\n",
       "          <td></td>         <th>Statistic</th> <th>P-value</th> <th></th>\n",
       "</tr>\n",
       "<tr>\n",
       "  <th>Test of OR=1</th>       <td>734.655</td>   <td>0.000</td> <td></td>\n",
       "</tr>\n",
       "<tr>\n",
       "  <th>Test constant OR</th>  <td>1256.880</td>   <td>0.000</td> <td></td>\n",
       "</tr>\n",
       "<tr>\n",
       "          <td></td>            <th></th>    <th></th> <th></th>\n",
       "</tr>\n",
       "<tr>\n",
       "  <th>Number of tables</th>      <td>4</td> <td></td> <td></td>\n",
       "</tr>\n",
       "<tr>\n",
       "  <th>Min n</th>              <td>8425</td> <td></td> <td></td>\n",
       "</tr>\n",
       "<tr>\n",
       "  <th>Max n</th>             <td>82835</td> <td></td> <td></td>\n",
       "</tr>\n",
       "<tr>\n",
       "  <th>Avg n</th>             <td>31754</td> <td></td> <td></td>\n",
       "</tr>\n",
       "<tr>\n",
       "  <th>Total n</th>          <td>127018</td> <td></td> <td></td>\n",
       "</tr>\n",
       "</table>"
      ],
      "text/plain": [
       "<class 'statsmodels.iolib.table.SimpleTable'>"
      ]
     },
     "execution_count": 16,
     "metadata": {},
     "output_type": "execute_result"
    }
   ],
   "source": [
    "StratifiedTable.from_data('purchase', 'experimentVariant', 'version', df).summary()\n",
    "\n",
    "# Here we are interested in p-value.\n",
    "# The first line (where Test of OR = 1) is a test of the hypothesis about the independence of variables,\n",
    "# the second line (where Test constant OR) is a test of the hypothesis that the relationship is the same for all levels of the stratifying variable."
   ]
  },
  {
   "cell_type": "markdown",
   "metadata": {},
   "source": [
    "> Conclusion: did an AA test, revealed a problem in splitting, p value (0.935) > 0.05.\n",
    "We checked where the ctr distributions (calculated via mean) have a noticeable deviation between 0 and 1.\n",
    "MP version v2.8.0 spills extremely heavily in groups 0 and 1 with approximately uniform samples in number.\n",
    "We did the AA test again, removing v2.8.0 from MP, p value (0.04) < 0.05\n",
    "We can assume that the problem is splitting in MP v2.8.0.\n",
    "\n",
    ">Also, for the sake of interest, we did a test of the Cochran-Mantel-Hanzel criterion. p-value on the line Test of OR=1 shows that there is a connection, and p-value on the line Test constant OR shows that the connection is heterogeneous."
   ]
  },
  {
   "cell_type": "code",
   "execution_count": null,
   "metadata": {},
   "outputs": [],
   "source": []
  },
  {
   "cell_type": "code",
   "execution_count": null,
   "metadata": {},
   "outputs": [],
   "source": []
  }
 ],
 "metadata": {
  "kernelspec": {
   "display_name": "Python 3 (ipykernel)",
   "language": "python",
   "name": "python3"
  },
  "language_info": {
   "codemirror_mode": {
    "name": "ipython",
    "version": 3
   },
   "file_extension": ".py",
   "mimetype": "text/x-python",
   "name": "python",
   "nbconvert_exporter": "python",
   "pygments_lexer": "ipython3",
   "version": "3.9.7"
  }
 },
 "nbformat": 4,
 "nbformat_minor": 4
}
